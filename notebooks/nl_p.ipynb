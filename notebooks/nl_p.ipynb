{
 "cells": [
  {
   "cell_type": "code",
   "execution_count": null,
   "id": "33e27a36",
   "metadata": {
    "vscode": {
     "languageId": "plaintext"
    }
   },
   "outputs": [],
   "source": [
    "import os\n",
    "import runpod \n",
    "\n",
    "\n",
    "runpod.api_key = \"xxxx\" \n",
    "\n",
    "pods = runpod.get_pods()\n",
    "for pod in pods:\n",
    "    for p in pod['runtime']['ports']:\n",
    "        if p['isIpPublic'] and p['type'] == 'tcp' and p['privatePort'] == 22:\n",
    "            output_dir = f\"./outputs_{pod['name']}\"\n",
    "            os.makedirs(output_dir, exist_ok=True)\n",
    "            scp_command = f\"scp -i ~/.ssh/id_ed25519 -o StrictHostKeyChecking=no -P {p['publicPort']} -r root@{p['ip']}:/workspace/outputs/* {output_dir}/\"\n",
    "            os.system(scp_command)"
   ]
  }
 ],
 "metadata": {
  "language_info": {
   "name": "python"
  }
 },
 "nbformat": 4,
 "nbformat_minor": 5
}
